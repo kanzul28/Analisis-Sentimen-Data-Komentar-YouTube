{
 "cells": [
  {
   "cell_type": "code",
   "execution_count": 1,
   "metadata": {},
   "outputs": [],
   "source": [
    "import time\n",
    "import pandas as pd\n",
    "from selenium import webdriver"
   ]
  },
  {
   "cell_type": "code",
   "execution_count": 2,
   "metadata": {},
   "outputs": [],
   "source": [
    "driver=webdriver.Chrome(r'C:\\Program Files (x86)\\Google\\Chrome\\Application\\chromedriver.exe') #(Letakkan 'chromedriver.exe' ke folder yang udah ditetapkan ini)\n",
    "driver.get('https://www.youtube.com/watch?v=pceUOr2Ei90&t=38s&ab_channel=KOMPASTV')\n",
    "driver.execute_script('window.scrollTo(1, 500);')\n",
    "#now wait let load the comments\n",
    "time.sleep(100) \n",
    "driver.execute_script('window.scrollTo(1,3000);')\n",
    "commentar_youtube=[]\n",
    "comment_div=driver.find_element_by_xpath('//*[@id=\"contents\"]')\n",
    "comments=comment_div.find_elements_by_xpath('//*[@id=\"content-text\"]')\n",
    "for comment in comments:\n",
    "    commentar_youtube.append(comment.text)"
   ]
  },
  {
   "cell_type": "code",
   "execution_count": 3,
   "metadata": {},
   "outputs": [
    {
     "name": "stdout",
     "output_type": "stream",
     "text": [
      "                                              Komentar\n",
      "0    Vaksin Astra Zenece koq siap di vaksin malah j...\n",
      "1    Saya pun sudah disuntik dgn vaksin AZ nie. Ten...\n",
      "2         Trima kasih infonya . Salam Indonesia Sehat.\n",
      "3    Ini hari ke 2 sejak vaksin,kepala pusing,sakit...\n",
      "4    Kemarin sy vaksin jam 11 pagi, mlmnya menggigi...\n",
      "..                                                 ...\n",
      "175           Ngantuk banget pakai vaksin astra zeneca\n",
      "176                    Saya aman2 saja divaksin hehehe\n",
      "177                           Sakit coeg vaksinnya ...\n",
      "178  Saya sudah divaksin..sejam kemudian ko jdi eny...\n",
      "179  Knapa tau bikin mriang kok di berikan orang, u...\n",
      "\n",
      "[180 rows x 1 columns]\n"
     ]
    }
   ],
   "source": [
    "commentar_dict = {'Komentar':commentar_youtube}\n",
    "commentar_youtube_df = pd.DataFrame(commentar_dict)\n",
    "print(commentar_youtube_df)\n"
   ]
  },
  {
   "cell_type": "code",
   "execution_count": 5,
   "metadata": {},
   "outputs": [],
   "source": [
    "# menambah data baru ke file data lama\n",
    "commentar_youtube_df.to_csv(r'Komentar_Youtube(test2).csv',mode='a',header=False)"
   ]
  },
  {
   "cell_type": "code",
   "execution_count": 4,
   "metadata": {},
   "outputs": [],
   "source": [
    "# membuat data komentar baru dengan format csv\n",
    "commentar_youtube_df.to_csv(r'Komentar_Youtube(test2).csv')"
   ]
  },
  {
   "cell_type": "code",
   "execution_count": null,
   "metadata": {},
   "outputs": [],
   "source": []
  }
 ],
 "metadata": {
  "kernelspec": {
   "display_name": "Python 3",
   "language": "python",
   "name": "python3"
  },
  "language_info": {
   "codemirror_mode": {
    "name": "ipython",
    "version": 3
   },
   "file_extension": ".py",
   "mimetype": "text/x-python",
   "name": "python",
   "nbconvert_exporter": "python",
   "pygments_lexer": "ipython3",
   "version": "3.7.4"
  }
 },
 "nbformat": 4,
 "nbformat_minor": 2
}
