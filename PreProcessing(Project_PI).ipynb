{
 "cells": [
  {
   "cell_type": "code",
   "execution_count": 4,
   "metadata": {},
   "outputs": [
    {
     "name": "stdout",
     "output_type": "stream",
     "text": [
      "Collecting pandas==1.3.2\n",
      "  Using cached pandas-1.3.2-cp37-cp37m-win_amd64.whl (10.0 MB)\n",
      "Requirement already satisfied: pytz>=2017.3 in c:\\users\\kanzul faisal\\anaconda\\lib\\site-packages (from pandas==1.3.2) (2021.1)\n",
      "Requirement already satisfied: numpy>=1.17.3 in c:\\users\\kanzul faisal\\anaconda\\lib\\site-packages (from pandas==1.3.2) (1.21.2)\n",
      "Requirement already satisfied: python-dateutil>=2.7.3 in c:\\users\\kanzul faisal\\anaconda\\lib\\site-packages (from pandas==1.3.2) (2.8.2)\n",
      "Requirement already satisfied: six>=1.5 in c:\\users\\kanzul faisal\\anaconda\\lib\\site-packages (from python-dateutil>=2.7.3->pandas==1.3.2) (1.16.0)\n",
      "Installing collected packages: pandas\n",
      "  Attempting uninstall: pandas\n",
      "    Found existing installation: pandas 1.3.0\n",
      "    Uninstalling pandas-1.3.0:\n",
      "      Successfully uninstalled pandas-1.3.0\n",
      "Successfully installed pandas-1.3.2\n"
     ]
    }
   ],
   "source": [
    "!pip install pandas==1.3.2"
   ]
  },
  {
   "cell_type": "code",
   "execution_count": 1,
   "metadata": {},
   "outputs": [
    {
     "name": "stdout",
     "output_type": "stream",
     "text": [
      "Requirement already satisfied: swifter in c:\\users\\kanzul faisal\\anaconda\\lib\\site-packages (1.0.9)\n",
      "Requirement already satisfied: psutil>=5.6.6 in c:\\users\\kanzul faisal\\anaconda\\lib\\site-packages (from swifter) (5.8.0)\n",
      "Requirement already satisfied: ipywidgets>=7.0.0 in c:\\users\\kanzul faisal\\anaconda\\lib\\site-packages (from swifter) (7.5.1)\n",
      "Requirement already satisfied: cloudpickle>=0.2.2 in c:\\users\\kanzul faisal\\anaconda\\lib\\site-packages (from swifter) (1.2.2)\n",
      "Requirement already satisfied: bleach>=3.1.1 in c:\\users\\kanzul faisal\\anaconda\\lib\\site-packages (from swifter) (4.0.0)\n",
      "Requirement already satisfied: dask[dataframe]>=2.10.0 in c:\\users\\kanzul faisal\\anaconda\\lib\\site-packages (from swifter) (2021.8.0)\n",
      "Requirement already satisfied: parso>0.4.0 in c:\\users\\kanzul faisal\\anaconda\\lib\\site-packages (from swifter) (0.5.1)\n",
      "Requirement already satisfied: tqdm>=4.33.0 in c:\\users\\kanzul faisal\\anaconda\\lib\\site-packages (from swifter) (4.36.1)\n",
      "Requirement already satisfied: pandas>=1.0.0 in c:\\users\\kanzul faisal\\anaconda\\lib\\site-packages (from swifter) (1.3.2)\n",
      "Requirement already satisfied: six>=1.9.0 in c:\\users\\kanzul faisal\\anaconda\\lib\\site-packages (from bleach>=3.1.1->swifter) (1.12.0)\n",
      "Requirement already satisfied: packaging in c:\\users\\kanzul faisal\\anaconda\\lib\\site-packages (from bleach>=3.1.1->swifter) (21.0)\n",
      "Requirement already satisfied: webencodings in c:\\users\\kanzul faisal\\anaconda\\lib\\site-packages (from bleach>=3.1.1->swifter) (0.5.1)\n",
      "Requirement already satisfied: pyyaml in c:\\users\\kanzul faisal\\anaconda\\lib\\site-packages (from dask[dataframe]>=2.10.0->swifter) (5.1.2)\n",
      "Requirement already satisfied: fsspec>=0.6.0 in c:\\users\\kanzul faisal\\anaconda\\lib\\site-packages (from dask[dataframe]>=2.10.0->swifter) (2021.7.0)\n",
      "Requirement already satisfied: partd>=0.3.10 in c:\\users\\kanzul faisal\\anaconda\\lib\\site-packages (from dask[dataframe]>=2.10.0->swifter) (1.0.0)\n",
      "Requirement already satisfied: toolz>=0.8.2 in c:\\users\\kanzul faisal\\anaconda\\lib\\site-packages (from dask[dataframe]>=2.10.0->swifter) (0.10.0)\n",
      "Requirement already satisfied: numpy>=1.18 in c:\\users\\kanzul faisal\\anaconda\\lib\\site-packages (from dask[dataframe]>=2.10.0->swifter) (1.21.2)\n",
      "Requirement already satisfied: widgetsnbextension~=3.5.0 in c:\\users\\kanzul faisal\\anaconda\\lib\\site-packages (from ipywidgets>=7.0.0->swifter) (3.5.1)\n",
      "Requirement already satisfied: traitlets>=4.3.1 in c:\\users\\kanzul faisal\\anaconda\\lib\\site-packages (from ipywidgets>=7.0.0->swifter) (4.3.3)\n",
      "Requirement already satisfied: ipython>=4.0.0 in c:\\users\\kanzul faisal\\anaconda\\lib\\site-packages (from ipywidgets>=7.0.0->swifter) (7.8.0)\n",
      "Requirement already satisfied: nbformat>=4.2.0 in c:\\users\\kanzul faisal\\anaconda\\lib\\site-packages (from ipywidgets>=7.0.0->swifter) (4.4.0)\n",
      "Requirement already satisfied: ipykernel>=4.5.1 in c:\\users\\kanzul faisal\\anaconda\\lib\\site-packages (from ipywidgets>=7.0.0->swifter) (5.1.2)\n",
      "Requirement already satisfied: tornado>=4.2 in c:\\users\\kanzul faisal\\anaconda\\lib\\site-packages (from ipykernel>=4.5.1->ipywidgets>=7.0.0->swifter) (6.0.3)\n",
      "Requirement already satisfied: jupyter-client in c:\\users\\kanzul faisal\\anaconda\\lib\\site-packages (from ipykernel>=4.5.1->ipywidgets>=7.0.0->swifter) (5.3.3)\n",
      "Requirement already satisfied: colorama in c:\\users\\kanzul faisal\\anaconda\\lib\\site-packages (from ipython>=4.0.0->ipywidgets>=7.0.0->swifter) (0.4.1)\n",
      "Requirement already satisfied: pygments in c:\\users\\kanzul faisal\\anaconda\\lib\\site-packages (from ipython>=4.0.0->ipywidgets>=7.0.0->swifter) (2.4.2)\n",
      "Requirement already satisfied: setuptools>=18.5 in c:\\users\\kanzul faisal\\anaconda\\lib\\site-packages (from ipython>=4.0.0->ipywidgets>=7.0.0->swifter) (41.4.0)\n",
      "Requirement already satisfied: prompt-toolkit<2.1.0,>=2.0.0 in c:\\users\\kanzul faisal\\anaconda\\lib\\site-packages (from ipython>=4.0.0->ipywidgets>=7.0.0->swifter) (2.0.10)\n",
      "Requirement already satisfied: decorator in c:\\users\\kanzul faisal\\anaconda\\lib\\site-packages (from ipython>=4.0.0->ipywidgets>=7.0.0->swifter) (4.4.0)\n",
      "Requirement already satisfied: backcall in c:\\users\\kanzul faisal\\anaconda\\lib\\site-packages (from ipython>=4.0.0->ipywidgets>=7.0.0->swifter) (0.1.0)\n",
      "Requirement already satisfied: pickleshare in c:\\users\\kanzul faisal\\anaconda\\lib\\site-packages (from ipython>=4.0.0->ipywidgets>=7.0.0->swifter) (0.7.5)\n",
      "Requirement already satisfied: jedi>=0.10 in c:\\users\\kanzul faisal\\anaconda\\lib\\site-packages (from ipython>=4.0.0->ipywidgets>=7.0.0->swifter) (0.15.1)\n",
      "Requirement already satisfied: jsonschema!=2.5.0,>=2.4 in c:\\users\\kanzul faisal\\anaconda\\lib\\site-packages (from nbformat>=4.2.0->ipywidgets>=7.0.0->swifter) (3.0.2)\n",
      "Requirement already satisfied: ipython-genutils in c:\\users\\kanzul faisal\\anaconda\\lib\\site-packages (from nbformat>=4.2.0->ipywidgets>=7.0.0->swifter) (0.2.0)\n",
      "Requirement already satisfied: jupyter-core in c:\\users\\kanzul faisal\\anaconda\\lib\\site-packages (from nbformat>=4.2.0->ipywidgets>=7.0.0->swifter) (4.5.0)\n",
      "Requirement already satisfied: attrs>=17.4.0 in c:\\users\\kanzul faisal\\anaconda\\lib\\site-packages (from jsonschema!=2.5.0,>=2.4->nbformat>=4.2.0->ipywidgets>=7.0.0->swifter) (19.2.0)\n",
      "Requirement already satisfied: pyrsistent>=0.14.0 in c:\\users\\kanzul faisal\\anaconda\\lib\\site-packages (from jsonschema!=2.5.0,>=2.4->nbformat>=4.2.0->ipywidgets>=7.0.0->swifter) (0.15.4)\n",
      "Requirement already satisfied: pyparsing>=2.0.2 in c:\\users\\kanzul faisal\\anaconda\\lib\\site-packages (from packaging->bleach>=3.1.1->swifter) (2.4.2)\n",
      "Requirement already satisfied: python-dateutil>=2.7.3 in c:\\users\\kanzul faisal\\anaconda\\lib\\site-packages (from pandas>=1.0.0->swifter) (2.8.0)\n",
      "Requirement already satisfied: pytz>=2017.3 in c:\\users\\kanzul faisal\\anaconda\\lib\\site-packages (from pandas>=1.0.0->swifter) (2019.3)\n",
      "Requirement already satisfied: locket in c:\\users\\kanzul faisal\\anaconda\\lib\\site-packages (from partd>=0.3.10->dask[dataframe]>=2.10.0->swifter) (0.2.0)\n",
      "Requirement already satisfied: wcwidth in c:\\users\\kanzul faisal\\anaconda\\lib\\site-packages (from prompt-toolkit<2.1.0,>=2.0.0->ipython>=4.0.0->ipywidgets>=7.0.0->swifter) (0.1.7)\n",
      "Requirement already satisfied: notebook>=4.4.1 in c:\\users\\kanzul faisal\\anaconda\\lib\\site-packages (from widgetsnbextension~=3.5.0->ipywidgets>=7.0.0->swifter) (6.0.1)\n",
      "Requirement already satisfied: prometheus-client in c:\\users\\kanzul faisal\\anaconda\\lib\\site-packages (from notebook>=4.4.1->widgetsnbextension~=3.5.0->ipywidgets>=7.0.0->swifter) (0.7.1)\n",
      "Requirement already satisfied: pyzmq>=17 in c:\\users\\kanzul faisal\\anaconda\\lib\\site-packages (from notebook>=4.4.1->widgetsnbextension~=3.5.0->ipywidgets>=7.0.0->swifter) (18.1.0)\n",
      "Requirement already satisfied: terminado>=0.8.1 in c:\\users\\kanzul faisal\\anaconda\\lib\\site-packages (from notebook>=4.4.1->widgetsnbextension~=3.5.0->ipywidgets>=7.0.0->swifter) (0.8.2)\n",
      "Requirement already satisfied: jinja2 in c:\\users\\kanzul faisal\\anaconda\\lib\\site-packages (from notebook>=4.4.1->widgetsnbextension~=3.5.0->ipywidgets>=7.0.0->swifter) (2.10.3)\n",
      "Requirement already satisfied: nbconvert in c:\\users\\kanzul faisal\\anaconda\\lib\\site-packages (from notebook>=4.4.1->widgetsnbextension~=3.5.0->ipywidgets>=7.0.0->swifter) (5.6.0)\n",
      "Requirement already satisfied: Send2Trash in c:\\users\\kanzul faisal\\anaconda\\lib\\site-packages (from notebook>=4.4.1->widgetsnbextension~=3.5.0->ipywidgets>=7.0.0->swifter) (1.5.0)\n",
      "Requirement already satisfied: pywin32>=1.0 in c:\\users\\kanzul faisal\\anaconda\\lib\\site-packages (from jupyter-client->ipykernel>=4.5.1->ipywidgets>=7.0.0->swifter) (223)\n",
      "Requirement already satisfied: MarkupSafe>=0.23 in c:\\users\\kanzul faisal\\anaconda\\lib\\site-packages (from jinja2->notebook>=4.4.1->widgetsnbextension~=3.5.0->ipywidgets>=7.0.0->swifter) (1.1.1)\n",
      "Requirement already satisfied: entrypoints>=0.2.2 in c:\\users\\kanzul faisal\\anaconda\\lib\\site-packages (from nbconvert->notebook>=4.4.1->widgetsnbextension~=3.5.0->ipywidgets>=7.0.0->swifter) (0.3)\n",
      "Requirement already satisfied: testpath in c:\\users\\kanzul faisal\\anaconda\\lib\\site-packages (from nbconvert->notebook>=4.4.1->widgetsnbextension~=3.5.0->ipywidgets>=7.0.0->swifter) (0.4.2)\n",
      "Requirement already satisfied: pandocfilters>=1.4.1 in c:\\users\\kanzul faisal\\anaconda\\lib\\site-packages (from nbconvert->notebook>=4.4.1->widgetsnbextension~=3.5.0->ipywidgets>=7.0.0->swifter) (1.4.2)\n",
      "Requirement already satisfied: mistune<2,>=0.8.1 in c:\\users\\kanzul faisal\\anaconda\\lib\\site-packages (from nbconvert->notebook>=4.4.1->widgetsnbextension~=3.5.0->ipywidgets>=7.0.0->swifter) (0.8.4)\n",
      "Requirement already satisfied: defusedxml in c:\\users\\kanzul faisal\\anaconda\\lib\\site-packages (from nbconvert->notebook>=4.4.1->widgetsnbextension~=3.5.0->ipywidgets>=7.0.0->swifter) (0.6.0)\n"
     ]
    },
    {
     "name": "stdout",
     "output_type": "stream",
     "text": [
      "Requirement already satisfied: Sastrawi in c:\\users\\kanzul faisal\\anaconda\\lib\\site-packages (1.0.1)\n"
     ]
    }
   ],
   "source": [
    "!pip install swifter\n",
    "!pip install Sastrawi"
   ]
  },
  {
   "cell_type": "markdown",
   "metadata": {},
   "source": [
    "# Import Library"
   ]
  },
  {
   "cell_type": "code",
   "execution_count": 5,
   "metadata": {},
   "outputs": [
    {
     "name": "stderr",
     "output_type": "stream",
     "text": [
      "[nltk_data] Downloading package punkt to C:\\Users\\Kanzul\n",
      "[nltk_data]     Faisal\\AppData\\Roaming\\nltk_data...\n",
      "[nltk_data]   Package punkt is already up-to-date!\n",
      "[nltk_data] Downloading package stopwords to C:\\Users\\Kanzul\n",
      "[nltk_data]     Faisal\\AppData\\Roaming\\nltk_data...\n",
      "[nltk_data]   Package stopwords is already up-to-date!\n"
     ]
    },
    {
     "data": {
      "text/plain": [
       "True"
      ]
     },
     "execution_count": 5,
     "metadata": {},
     "output_type": "execute_result"
    }
   ],
   "source": [
    "import numpy as np\n",
    "import matplotlib.pyplot as plt\n",
    "from sklearn.feature_extraction.text import CountVectorizer\n",
    "import string\n",
    "import re\n",
    "from Sastrawi.StopWordRemover.StopWordRemoverFactory import StopWordRemoverFactory\n",
    "from Sastrawi.Stemmer.StemmerFactory import StemmerFactory\n",
    "import nltk\n",
    "import csv\n",
    "nltk.download('punkt')\n",
    "nltk.download('stopwords')"
   ]
  },
  {
   "cell_type": "code",
   "execution_count": 3,
   "metadata": {},
   "outputs": [
    {
     "ename": "ImportError",
     "evalue": "cannot import name 'DtypeArg' from 'pandas._typing' (C:\\Users\\Kanzul Faisal\\Anaconda\\lib\\site-packages\\pandas\\_typing.py)",
     "output_type": "error",
     "traceback": [
      "\u001b[1;31m---------------------------------------------------------------------------\u001b[0m",
      "\u001b[1;31mImportError\u001b[0m                               Traceback (most recent call last)",
      "\u001b[1;32m<ipython-input-3-d06053c41c20>\u001b[0m in \u001b[0;36m<module>\u001b[1;34m\u001b[0m\n\u001b[1;32m----> 1\u001b[1;33m \u001b[1;32mimport\u001b[0m \u001b[0mpandas\u001b[0m \u001b[1;32mas\u001b[0m \u001b[0mpd\u001b[0m\u001b[1;33m\u001b[0m\u001b[1;33m\u001b[0m\u001b[0m\n\u001b[0m\u001b[0;32m      2\u001b[0m \u001b[0mdf\u001b[0m \u001b[1;33m=\u001b[0m \u001b[0mpd\u001b[0m\u001b[1;33m.\u001b[0m\u001b[0mread_csv\u001b[0m\u001b[1;33m(\u001b[0m\u001b[1;34mr'C:\\Users\\Kanzul Faisal\\Documents\\Proposal PI\\Komentar_Youtube.csv'\u001b[0m\u001b[1;33m)\u001b[0m\u001b[1;33m\u001b[0m\u001b[1;33m\u001b[0m\u001b[0m\n\u001b[0;32m      3\u001b[0m \u001b[0mdf\u001b[0m\u001b[1;33m.\u001b[0m\u001b[0mhead\u001b[0m\u001b[1;33m(\u001b[0m\u001b[1;33m)\u001b[0m\u001b[1;33m\u001b[0m\u001b[1;33m\u001b[0m\u001b[0m\n",
      "\u001b[1;32m~\\Anaconda\\lib\\site-packages\\pandas\\__init__.py\u001b[0m in \u001b[0;36m<module>\u001b[1;34m\u001b[0m\n\u001b[0;32m    140\u001b[0m \u001b[1;32mfrom\u001b[0m \u001b[0mpandas\u001b[0m\u001b[1;33m.\u001b[0m\u001b[0mutil\u001b[0m\u001b[1;33m.\u001b[0m\u001b[0m_print_versions\u001b[0m \u001b[1;32mimport\u001b[0m \u001b[0mshow_versions\u001b[0m\u001b[1;33m\u001b[0m\u001b[1;33m\u001b[0m\u001b[0m\n\u001b[0;32m    141\u001b[0m \u001b[1;33m\u001b[0m\u001b[0m\n\u001b[1;32m--> 142\u001b[1;33m from pandas.io.api import (\n\u001b[0m\u001b[0;32m    143\u001b[0m     \u001b[1;31m# excel\u001b[0m\u001b[1;33m\u001b[0m\u001b[1;33m\u001b[0m\u001b[1;33m\u001b[0m\u001b[0m\n\u001b[0;32m    144\u001b[0m     \u001b[0mExcelFile\u001b[0m\u001b[1;33m,\u001b[0m\u001b[1;33m\u001b[0m\u001b[1;33m\u001b[0m\u001b[0m\n",
      "\u001b[1;32m~\\Anaconda\\lib\\site-packages\\pandas\\io\\api.py\u001b[0m in \u001b[0;36m<module>\u001b[1;34m\u001b[0m\n\u001b[0;32m      6\u001b[0m \u001b[1;33m\u001b[0m\u001b[0m\n\u001b[0;32m      7\u001b[0m \u001b[1;32mfrom\u001b[0m \u001b[0mpandas\u001b[0m\u001b[1;33m.\u001b[0m\u001b[0mio\u001b[0m\u001b[1;33m.\u001b[0m\u001b[0mclipboards\u001b[0m \u001b[1;32mimport\u001b[0m \u001b[0mread_clipboard\u001b[0m\u001b[1;33m\u001b[0m\u001b[1;33m\u001b[0m\u001b[0m\n\u001b[1;32m----> 8\u001b[1;33m \u001b[1;32mfrom\u001b[0m \u001b[0mpandas\u001b[0m\u001b[1;33m.\u001b[0m\u001b[0mio\u001b[0m\u001b[1;33m.\u001b[0m\u001b[0mexcel\u001b[0m \u001b[1;32mimport\u001b[0m \u001b[0mExcelFile\u001b[0m\u001b[1;33m,\u001b[0m \u001b[0mExcelWriter\u001b[0m\u001b[1;33m,\u001b[0m \u001b[0mread_excel\u001b[0m\u001b[1;33m\u001b[0m\u001b[1;33m\u001b[0m\u001b[0m\n\u001b[0m\u001b[0;32m      9\u001b[0m \u001b[1;32mfrom\u001b[0m \u001b[0mpandas\u001b[0m\u001b[1;33m.\u001b[0m\u001b[0mio\u001b[0m\u001b[1;33m.\u001b[0m\u001b[0mfeather_format\u001b[0m \u001b[1;32mimport\u001b[0m \u001b[0mread_feather\u001b[0m\u001b[1;33m\u001b[0m\u001b[1;33m\u001b[0m\u001b[0m\n\u001b[0;32m     10\u001b[0m \u001b[1;32mfrom\u001b[0m \u001b[0mpandas\u001b[0m\u001b[1;33m.\u001b[0m\u001b[0mio\u001b[0m\u001b[1;33m.\u001b[0m\u001b[0mgbq\u001b[0m \u001b[1;32mimport\u001b[0m \u001b[0mread_gbq\u001b[0m\u001b[1;33m\u001b[0m\u001b[1;33m\u001b[0m\u001b[0m\n",
      "\u001b[1;32m~\\Anaconda\\lib\\site-packages\\pandas\\io\\excel\\__init__.py\u001b[0m in \u001b[0;36m<module>\u001b[1;34m\u001b[0m\n\u001b[1;32m----> 1\u001b[1;33m \u001b[1;32mfrom\u001b[0m \u001b[0mpandas\u001b[0m\u001b[1;33m.\u001b[0m\u001b[0mio\u001b[0m\u001b[1;33m.\u001b[0m\u001b[0mexcel\u001b[0m\u001b[1;33m.\u001b[0m\u001b[0m_base\u001b[0m \u001b[1;32mimport\u001b[0m \u001b[0mExcelFile\u001b[0m\u001b[1;33m,\u001b[0m \u001b[0mExcelWriter\u001b[0m\u001b[1;33m,\u001b[0m \u001b[0mread_excel\u001b[0m\u001b[1;33m\u001b[0m\u001b[1;33m\u001b[0m\u001b[0m\n\u001b[0m\u001b[0;32m      2\u001b[0m \u001b[1;32mfrom\u001b[0m \u001b[0mpandas\u001b[0m\u001b[1;33m.\u001b[0m\u001b[0mio\u001b[0m\u001b[1;33m.\u001b[0m\u001b[0mexcel\u001b[0m\u001b[1;33m.\u001b[0m\u001b[0m_odswriter\u001b[0m \u001b[1;32mimport\u001b[0m \u001b[0m_ODSWriter\u001b[0m\u001b[1;33m\u001b[0m\u001b[1;33m\u001b[0m\u001b[0m\n\u001b[0;32m      3\u001b[0m \u001b[1;32mfrom\u001b[0m \u001b[0mpandas\u001b[0m\u001b[1;33m.\u001b[0m\u001b[0mio\u001b[0m\u001b[1;33m.\u001b[0m\u001b[0mexcel\u001b[0m\u001b[1;33m.\u001b[0m\u001b[0m_openpyxl\u001b[0m \u001b[1;32mimport\u001b[0m \u001b[0m_OpenpyxlWriter\u001b[0m\u001b[1;33m\u001b[0m\u001b[1;33m\u001b[0m\u001b[0m\n\u001b[0;32m      4\u001b[0m \u001b[1;32mfrom\u001b[0m \u001b[0mpandas\u001b[0m\u001b[1;33m.\u001b[0m\u001b[0mio\u001b[0m\u001b[1;33m.\u001b[0m\u001b[0mexcel\u001b[0m\u001b[1;33m.\u001b[0m\u001b[0m_util\u001b[0m \u001b[1;32mimport\u001b[0m \u001b[0mregister_writer\u001b[0m\u001b[1;33m\u001b[0m\u001b[1;33m\u001b[0m\u001b[0m\n\u001b[0;32m      5\u001b[0m \u001b[1;32mfrom\u001b[0m \u001b[0mpandas\u001b[0m\u001b[1;33m.\u001b[0m\u001b[0mio\u001b[0m\u001b[1;33m.\u001b[0m\u001b[0mexcel\u001b[0m\u001b[1;33m.\u001b[0m\u001b[0m_xlsxwriter\u001b[0m \u001b[1;32mimport\u001b[0m \u001b[0m_XlsxWriter\u001b[0m\u001b[1;33m\u001b[0m\u001b[1;33m\u001b[0m\u001b[0m\n",
      "\u001b[1;32m~\\Anaconda\\lib\\site-packages\\pandas\\io\\excel\\_base.py\u001b[0m in \u001b[0;36m<module>\u001b[1;34m\u001b[0m\n\u001b[0;32m     30\u001b[0m     \u001b[0mget_writer\u001b[0m\u001b[1;33m,\u001b[0m\u001b[1;33m\u001b[0m\u001b[1;33m\u001b[0m\u001b[0m\n\u001b[0;32m     31\u001b[0m )\n\u001b[1;32m---> 32\u001b[1;33m \u001b[1;32mfrom\u001b[0m \u001b[0mpandas\u001b[0m\u001b[1;33m.\u001b[0m\u001b[0mio\u001b[0m\u001b[1;33m.\u001b[0m\u001b[0mparsers\u001b[0m \u001b[1;32mimport\u001b[0m \u001b[0mTextParser\u001b[0m\u001b[1;33m\u001b[0m\u001b[1;33m\u001b[0m\u001b[0m\n\u001b[0m\u001b[0;32m     33\u001b[0m \u001b[1;33m\u001b[0m\u001b[0m\n\u001b[0;32m     34\u001b[0m _read_excel_doc = (\n",
      "\u001b[1;32m~\\Anaconda\\lib\\site-packages\\pandas\\io\\parsers\\__init__.py\u001b[0m in \u001b[0;36m<module>\u001b[1;34m\u001b[0m\n\u001b[1;32m----> 1\u001b[1;33m from pandas.io.parsers.readers import (\n\u001b[0m\u001b[0;32m      2\u001b[0m     \u001b[0mTextFileReader\u001b[0m\u001b[1;33m,\u001b[0m\u001b[1;33m\u001b[0m\u001b[1;33m\u001b[0m\u001b[0m\n\u001b[0;32m      3\u001b[0m     \u001b[0mTextParser\u001b[0m\u001b[1;33m,\u001b[0m\u001b[1;33m\u001b[0m\u001b[1;33m\u001b[0m\u001b[0m\n\u001b[0;32m      4\u001b[0m     \u001b[0mread_csv\u001b[0m\u001b[1;33m,\u001b[0m\u001b[1;33m\u001b[0m\u001b[1;33m\u001b[0m\u001b[0m\n\u001b[0;32m      5\u001b[0m     \u001b[0mread_fwf\u001b[0m\u001b[1;33m,\u001b[0m\u001b[1;33m\u001b[0m\u001b[1;33m\u001b[0m\u001b[0m\n",
      "\u001b[1;32m~\\Anaconda\\lib\\site-packages\\pandas\\io\\parsers\\readers.py\u001b[0m in \u001b[0;36m<module>\u001b[1;34m\u001b[0m\n\u001b[0;32m     15\u001b[0m \u001b[1;32mimport\u001b[0m \u001b[0mpandas\u001b[0m\u001b[1;33m.\u001b[0m\u001b[0m_libs\u001b[0m\u001b[1;33m.\u001b[0m\u001b[0mlib\u001b[0m \u001b[1;32mas\u001b[0m \u001b[0mlib\u001b[0m\u001b[1;33m\u001b[0m\u001b[1;33m\u001b[0m\u001b[0m\n\u001b[0;32m     16\u001b[0m \u001b[1;32mfrom\u001b[0m \u001b[0mpandas\u001b[0m\u001b[1;33m.\u001b[0m\u001b[0m_libs\u001b[0m\u001b[1;33m.\u001b[0m\u001b[0mparsers\u001b[0m \u001b[1;32mimport\u001b[0m \u001b[0mSTR_NA_VALUES\u001b[0m\u001b[1;33m\u001b[0m\u001b[1;33m\u001b[0m\u001b[0m\n\u001b[1;32m---> 17\u001b[1;33m from pandas._typing import (\n\u001b[0m\u001b[0;32m     18\u001b[0m     \u001b[0mArrayLike\u001b[0m\u001b[1;33m,\u001b[0m\u001b[1;33m\u001b[0m\u001b[1;33m\u001b[0m\u001b[0m\n\u001b[0;32m     19\u001b[0m     \u001b[0mDtypeArg\u001b[0m\u001b[1;33m,\u001b[0m\u001b[1;33m\u001b[0m\u001b[1;33m\u001b[0m\u001b[0m\n",
      "\u001b[1;31mImportError\u001b[0m: cannot import name 'DtypeArg' from 'pandas._typing' (C:\\Users\\Kanzul Faisal\\Anaconda\\lib\\site-packages\\pandas\\_typing.py)"
     ]
    }
   ],
   "source": [
    "import pandas as pd\n",
    "df = pd.read_csv(r'C:\\Users\\Kanzul Faisal\\Documents\\Proposal PI\\Komentar_Youtube.csv')\n",
    "df.head()"
   ]
  },
  {
   "cell_type": "code",
   "execution_count": null,
   "metadata": {},
   "outputs": [],
   "source": [
    "del df['Unnamed: 0']\n",
    "df.head()"
   ]
  },
  {
   "cell_type": "code",
   "execution_count": null,
   "metadata": {},
   "outputs": [],
   "source": [
    "#cleaning Text\n",
    "def remove_punct(text):\n",
    "    text = re.sub(r'[^a-zA-Z0-9]', ' ', str(text))\n",
    "    text = re.sub(r\"\\b[a-zA-Z]\\b\", \"\", text)\n",
    "    text = re.sub(r'\\b\\w(1,2)\\b', '', text)\n",
    "    text = re.sub(r'\\s\\s+', ' ', text)\n",
    "    text = re.sub(r\"\\d+\", \"\", text)\n",
    "    return text\n",
    "df['Komentar'] = df['Komentar'].apply(remove_punct) "
   ]
  },
  {
   "cell_type": "code",
   "execution_count": null,
   "metadata": {},
   "outputs": [],
   "source": [
    "# ------ Case Folding --------\n",
    "# gunakan fungsi Series.str.lower() pada Pandas\n",
    "df['Komentar'] = df['Komentar'].str.lower()\n",
    "df.head()"
   ]
  },
  {
   "cell_type": "code",
   "execution_count": null,
   "metadata": {},
   "outputs": [],
   "source": [
    "def replace_repeat_character(text):\n",
    "    # Pattern to look for three or more repetitions of any character, including newlines (contoh goool -> gol).\n",
    "    pattern = re.compile(r\"(.)\\1{1,}\", re.DOTALL)\n",
    "    return pattern.sub(r\"\\1\\1\", text)\n",
    "\n",
    "df['Komentar'] = df['Komentar'].apply(replace_repeat_character) \n",
    "df.head()"
   ]
  },
  {
   "cell_type": "code",
   "execution_count": null,
   "metadata": {},
   "outputs": [],
   "source": [
    "from nltk.tokenize import word_tokenize\n",
    "\n",
    "def tokenize(text):\n",
    "    return nltk.word_tokenize(text)\n",
    "    \n",
    "df['TOKENIZATION'] = df['Komentar'].apply(tokenize)\n",
    "df.head(10)"
   ]
  },
  {
   "cell_type": "code",
   "execution_count": null,
   "metadata": {},
   "outputs": [],
   "source": [
    "katabaku = csv.reader(\n",
    "\topen(r\"C:\\Users\\Kanzul Faisal\\Documents\\Proposal PI\\Project PI\\kamus_alay_referensi_2.csv\"), delimiter=\";\") # ambil file csv kata baku menjadi array\n",
    "\n",
    "kamus_katabaku = {} # empty dictionary untuk kamus kata baku\n",
    "try:\n",
    "    for row in katabaku : # membuat kamus kata baku dengan input kata tidak baku dan output kata bakunya\n",
    "        kamus_katabaku[row[0]] = row[1]\n",
    "except:\n",
    "    pass"
   ]
  },
  {
   "cell_type": "code",
   "execution_count": null,
   "metadata": {},
   "outputs": [],
   "source": [
    "print(kamus_katabaku)"
   ]
  },
  {
   "cell_type": "code",
   "execution_count": null,
   "metadata": {},
   "outputs": [],
   "source": [
    "def normalized_term(text):\n",
    "    return [kamus_katabaku[term] if term in kamus_katabaku else term for term in text]\n",
    "df['TOKENIZATION'] = df['TOKENIZATION'].apply(normalized_term) \n",
    "df.head(10)"
   ]
  },
  {
   "cell_type": "code",
   "execution_count": null,
   "metadata": {},
   "outputs": [],
   "source": [
    "stopword =nltk.corpus.stopwords.words('indonesian')\n",
    "stopword.extend([\"yg\", \"dg\", \"rt\", \"dgn\", \"ny\", \"d\", 'klo', \n",
    "                 'kalo', 'amp', 'biar', 'bikin', 'bilang', \n",
    "                 'krn', 'nya', 'nih', 'sih', \n",
    "                 'si', 'tau', 'tuh', 'utk', 'ya','sdh',\n",
    "                 'aja', 'n', 't', 'nyg', 'hehe', 'pen', 'u', 'nan', 'loh', 'rt',\n",
    "                 '&amp', 'yah', 'njir', 'wkwk', 'haha', 'hehe', 'rs', 'yaa',\n",
    "                 'nii', 'bin', 'lahh', 'hmm', 'lieur', 'njarem', 'kale',\n",
    "                 'hd', 'an', 'ob', 'bro', 'ud', 'iyaa', 'guys', 'doang',\n",
    "                 'doank', 'eh', 'kek', 'or', 'kah', 'eso', 'tuh', 'dh', 'dnk',\n",
    "                 'mh', 'ja', 'tu', 'anu', 'ni', 'ku', 'blz', 'gy', 'skg', 'eeh',\n",
    "                 'pas','tar','bc','x','dong','d'])"
   ]
  },
  {
   "cell_type": "code",
   "execution_count": null,
   "metadata": {},
   "outputs": [],
   "source": [
    "word_list=['enggak','tidak','jangan','belum']\n",
    "stopword = [word for word in stopword if word not in word_list] #make a copy of the word_list"
   ]
  },
  {
   "cell_type": "code",
   "execution_count": null,
   "metadata": {},
   "outputs": [],
   "source": [
    "def remove_stopwords(text):\n",
    "    return [word for word in text if word not in stopword]\n",
    "    \n",
    "df['STOP_REMOVAL'] = df['TOKENIZATION'].apply(remove_stopwords)\n",
    "df.head(10)"
   ]
  },
  {
   "cell_type": "code",
   "execution_count": null,
   "metadata": {
    "scrolled": true
   },
   "outputs": [],
   "source": [
    "factory = StemmerFactory()\n",
    "stemmer = factory.create_stemmer()\n",
    "import swifter\n",
    "\n",
    "# implementasi pada data kita\n",
    "\n",
    "# stemmed\n",
    "def stemmed_wrapper(text):\n",
    "    return stemmer.stem(text)\n",
    "\n",
    "text_dict = {}\n",
    "\n",
    "for document in df['STOP_REMOVAL']:\n",
    "    for text in document:\n",
    "        if text not in text_dict:\n",
    "            text_dict[text] = ' '\n",
    "            \n",
    "print(len(text_dict))\n",
    "print(\"------------------------\")\n",
    "\n",
    "for text in text_dict:\n",
    "    text_dict[text] = stemmed_wrapper(text)\n",
    "    print(text,\":\" ,text_dict[text])\n",
    "    \n",
    "print(text_dict)\n",
    "print(\"------------------------\")\n",
    "\n",
    "\n",
    "# apply stemmed term to dataframe\n",
    "def get_stemmed_term(document):\n",
    "    return [text_dict[text] for text in document]\n"
   ]
  },
  {
   "cell_type": "code",
   "execution_count": null,
   "metadata": {},
   "outputs": [],
   "source": [
    "df['STEMMER'] = df['STOP_REMOVAL'].apply(get_stemmed_term)\n",
    "df.head(10)"
   ]
  },
  {
   "cell_type": "code",
   "execution_count": null,
   "metadata": {
    "scrolled": true
   },
   "outputs": [],
   "source": [
    "def fit_stemmer(text):\n",
    "     text = np.array(text)\n",
    "     text = ' '.join(text)\n",
    "     return text\n",
    "\n",
    "df['Komentar_Final'] = df['STEMMER'].apply(lambda x: fit_stemmer(x))\n",
    "df.head(10)"
   ]
  },
  {
   "cell_type": "code",
   "execution_count": null,
   "metadata": {},
   "outputs": [],
   "source": [
    "df.to_csv(r'C:\\Users\\Kanzul Faisal\\Documents\\Proposal PI\\Project PI\\PreProcessing.csv')"
   ]
  },
  {
   "cell_type": "code",
   "execution_count": null,
   "metadata": {},
   "outputs": [],
   "source": [
    "import pickle\n",
    "pickle.dump(stopword,\n",
    "            open('stopword.pkl', 'wb'),\n",
    "            protocol=4)"
   ]
  },
  {
   "cell_type": "code",
   "execution_count": null,
   "metadata": {},
   "outputs": [],
   "source": [
    "import pickle\n",
    "pickle.dump(kamus_katabaku,\n",
    "            open('kamus_katabaku.pkl', 'wb'),\n",
    "            protocol=4)"
   ]
  }
 ],
 "metadata": {
  "kernelspec": {
   "display_name": "Python 3",
   "language": "python",
   "name": "python3"
  },
  "language_info": {
   "codemirror_mode": {
    "name": "ipython",
    "version": 3
   },
   "file_extension": ".py",
   "mimetype": "text/x-python",
   "name": "python",
   "nbconvert_exporter": "python",
   "pygments_lexer": "ipython3",
   "version": "3.7.4"
  }
 },
 "nbformat": 4,
 "nbformat_minor": 2
}
